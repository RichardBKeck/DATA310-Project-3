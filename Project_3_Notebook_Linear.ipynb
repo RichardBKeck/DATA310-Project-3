{
  "cells": [
    {
      "cell_type": "code",
      "execution_count": null,
      "metadata": {
        "id": "opW0Ul6ssEac"
      },
      "outputs": [],
      "source": [
        "import numpy as np\n",
        "import pandas as pd\n",
        "\n",
        "from scipy.optimize import dual_annealing\n",
        "from sklearn.model_selection import KFold\n",
        "from sklearn.linear_model import ElasticNet\n",
        "from sklearn.preprocessing import StandardScaler\n",
        "from sklearn.metrics import mean_squared_error as MSE\n",
        "from sklearn.svm import SVR"
      ]
    },
    {
      "cell_type": "code",
      "execution_count": null,
      "metadata": {
        "colab": {
          "base_uri": "https://localhost:8080/"
        },
        "id": "pHfzO_NJsAG3",
        "outputId": "8a36ca6a-e3e2-4e3c-ee9a-f5741459dd0d"
      },
      "outputs": [
        {
          "output_type": "stream",
          "name": "stdout",
          "text": [
            "Looking in indexes: https://pypi.org/simple, https://us-python.pkg.dev/colab-wheels/public/simple/\n",
            "Collecting geneticalgorithm\n",
            "  Downloading geneticalgorithm-1.0.2-py3-none-any.whl (16 kB)\n",
            "Requirement already satisfied: numpy in /usr/local/lib/python3.7/dist-packages (from geneticalgorithm) (1.21.6)\n",
            "Collecting func-timeout\n",
            "  Downloading func_timeout-4.3.5.tar.gz (44 kB)\n",
            "\u001b[K     |████████████████████████████████| 44 kB 2.3 MB/s \n",
            "\u001b[?25hBuilding wheels for collected packages: func-timeout\n",
            "  Building wheel for func-timeout (setup.py) ... \u001b[?25l\u001b[?25hdone\n",
            "  Created wheel for func-timeout: filename=func_timeout-4.3.5-py3-none-any.whl size=15098 sha256=39666f2dad976663ac289ec1fa842666c654421ad1577cddae2784bc8c91bc76\n",
            "  Stored in directory: /root/.cache/pip/wheels/68/b5/a5/67c4364c354e141f5a1bd3ec568126f77877ab7554cf5af8cb\n",
            "Successfully built func-timeout\n",
            "Installing collected packages: func-timeout, geneticalgorithm\n",
            "Successfully installed func-timeout-4.3.5 geneticalgorithm-1.0.2\n"
          ]
        }
      ],
      "source": [
        "!pip install geneticalgorithm"
      ]
    },
    {
      "cell_type": "code",
      "execution_count": null,
      "metadata": {
        "colab": {
          "base_uri": "https://localhost:8080/"
        },
        "id": "1rJtGtWssLTh",
        "outputId": "6e8bc5a4-3174-44ba-c256-db580c92192f"
      },
      "outputs": [
        {
          "output_type": "stream",
          "name": "stdout",
          "text": [
            "Looking in indexes: https://pypi.org/simple, https://us-python.pkg.dev/colab-wheels/public/simple/\n",
            "Collecting pyswarms\n",
            "  Downloading pyswarms-1.3.0-py2.py3-none-any.whl (104 kB)\n",
            "\u001b[K     |████████████████████████████████| 104 kB 17.0 MB/s \n",
            "\u001b[?25hRequirement already satisfied: scipy in /usr/local/lib/python3.7/dist-packages (from pyswarms) (1.7.3)\n",
            "Requirement already satisfied: attrs in /usr/local/lib/python3.7/dist-packages (from pyswarms) (21.4.0)\n",
            "Requirement already satisfied: matplotlib>=1.3.1 in /usr/local/lib/python3.7/dist-packages (from pyswarms) (3.2.2)\n",
            "Requirement already satisfied: numpy in /usr/local/lib/python3.7/dist-packages (from pyswarms) (1.21.6)\n",
            "Requirement already satisfied: tqdm in /usr/local/lib/python3.7/dist-packages (from pyswarms) (4.64.0)\n",
            "Requirement already satisfied: pyyaml in /usr/local/lib/python3.7/dist-packages (from pyswarms) (3.13)\n",
            "Requirement already satisfied: future in /usr/local/lib/python3.7/dist-packages (from pyswarms) (0.16.0)\n",
            "Requirement already satisfied: cycler>=0.10 in /usr/local/lib/python3.7/dist-packages (from matplotlib>=1.3.1->pyswarms) (0.11.0)\n",
            "Requirement already satisfied: python-dateutil>=2.1 in /usr/local/lib/python3.7/dist-packages (from matplotlib>=1.3.1->pyswarms) (2.8.2)\n",
            "Requirement already satisfied: kiwisolver>=1.0.1 in /usr/local/lib/python3.7/dist-packages (from matplotlib>=1.3.1->pyswarms) (1.4.4)\n",
            "Requirement already satisfied: pyparsing!=2.0.4,!=2.1.2,!=2.1.6,>=2.0.1 in /usr/local/lib/python3.7/dist-packages (from matplotlib>=1.3.1->pyswarms) (3.0.9)\n",
            "Requirement already satisfied: typing-extensions in /usr/local/lib/python3.7/dist-packages (from kiwisolver>=1.0.1->matplotlib>=1.3.1->pyswarms) (4.1.1)\n",
            "Requirement already satisfied: six>=1.5 in /usr/local/lib/python3.7/dist-packages (from python-dateutil>=2.1->matplotlib>=1.3.1->pyswarms) (1.15.0)\n",
            "Installing collected packages: pyswarms\n",
            "Successfully installed pyswarms-1.3.0\n"
          ]
        }
      ],
      "source": [
        "pip install pyswarms"
      ]
    },
    {
      "cell_type": "code",
      "execution_count": null,
      "metadata": {
        "id": "VTjWsuwxsK43"
      },
      "outputs": [],
      "source": [
        "from geneticalgorithm import geneticalgorithm as ga\n",
        "import pyswarms as ps\n",
        "from scipy.optimize import dual_annealing"
      ]
    },
    {
      "cell_type": "code",
      "execution_count": null,
      "metadata": {
        "id": "vQHorZPBrstF"
      },
      "outputs": [],
      "source": [
        "# Import modules\n",
        "import matplotlib as mpl\n",
        "mpl.rcParams['animation.embed_limit'] = 2**128\n",
        "from IPython.display import Image\n",
        "from IPython.display import HTML, display"
      ]
    },
    {
      "cell_type": "code",
      "execution_count": null,
      "metadata": {
        "id": "xH-yQXFvrz5x"
      },
      "outputs": [],
      "source": [
        "%matplotlib inline\n",
        "%config InlineBackend.figure_format = 'retina'\n",
        "mpl.rcParams['figure.dpi'] = 150\n",
        "import matplotlib.pyplot as plt\n",
        "import warnings\n",
        "warnings.simplefilter(action='ignore')"
      ]
    },
    {
      "cell_type": "code",
      "source": [
        "from google.colab import drive\n",
        "drive.mount('/content/drive')"
      ],
      "metadata": {
        "colab": {
          "base_uri": "https://localhost:8080/"
        },
        "id": "6ID4iIHLXkAd",
        "outputId": "826912bd-2bd6-4e7d-f345-d30899a9718a"
      },
      "execution_count": null,
      "outputs": [
        {
          "output_type": "stream",
          "name": "stdout",
          "text": [
            "Mounted at /content/drive\n"
          ]
        }
      ]
    },
    {
      "cell_type": "code",
      "execution_count": null,
      "metadata": {
        "id": "k7JJqIE8sA1a"
      },
      "outputs": [],
      "source": [
        "df = pd.read_csv('drive/MyDrive/DATA 310/Datasets/AirI.csv',header=None)"
      ]
    },
    {
      "cell_type": "code",
      "execution_count": null,
      "metadata": {
        "colab": {
          "base_uri": "https://localhost:8080/",
          "height": 488
        },
        "id": "Hp_tYdDqtBAJ",
        "outputId": "73a22110-5f28-48bc-c537-bd2f88b39798"
      },
      "outputs": [
        {
          "output_type": "execute_result",
          "data": {
            "text/plain": [
              "        0         1         2         3         4         5        6    \\\n",
              "0    3.4482  0.001314  0.157470  0.688300  0.152920  0.000000  0.00000   \n",
              "1    3.3019  0.188490  0.553190  0.258290  0.000031  0.000000  0.00000   \n",
              "2    2.2894  0.052169  0.438520  0.494030  0.015282  0.000000  0.00000   \n",
              "3    2.6207  0.000000  0.000000  0.004213  0.109340  0.493440  0.39300   \n",
              "4    2.8439  0.000000  0.000000  0.019504  0.260470  0.549860  0.17016   \n",
              "..      ...       ...       ...       ...       ...       ...      ...   \n",
              "106  2.4101  0.301000  0.021904  0.000415  0.000000  0.000000  0.00000   \n",
              "107  3.1072  0.000734  0.138890  0.688740  0.171630  0.000000  0.00000   \n",
              "108  2.4101  0.001095  0.151180  0.688720  0.159000  0.000000  0.00000   \n",
              "109  2.6207  0.117370  0.526200  0.354590  0.001831  0.000000  0.00000   \n",
              "110  2.7144  0.000000  0.020058  0.538580  0.436120  0.005236  0.00000   \n",
              "\n",
              "          7        8         9    ...      502       503      504       505  \\\n",
              "0    0.096603  0.52135  0.382050  ... -2.94590  0.219960 -0.69045  0.240440   \n",
              "1    0.039008  0.43211  0.527160  ... -0.22680 -0.428570  0.74992 -0.111920   \n",
              "2    0.000000  0.00000  0.394840  ...  1.15790  0.010118  0.73593  1.356000   \n",
              "3    0.000000  0.00000  0.578540  ... -0.69767  1.577800  0.54899 -0.780420   \n",
              "4    0.010568  0.30520  0.670460  ... -1.49170 -0.688640 -0.69924  0.360740   \n",
              "..        ...      ...       ...  ...      ...       ...      ...       ...   \n",
              "106  0.000000  0.00000  0.051206  ... -1.56660 -1.097100  2.77450  0.679850   \n",
              "107  0.171260  0.54746  0.280340  ... -0.32440 -1.341500 -1.51650  0.870840   \n",
              "108  0.000000  0.00000  0.194760  ... -0.49572 -0.832130  0.52386  0.189400   \n",
              "109  0.039008  0.43211  0.527160  ... -0.87353  0.063740  0.20128  0.090828   \n",
              "110  0.000000  0.00000  0.578540  ...  0.69068  0.480600  1.87800 -1.188400   \n",
              "\n",
              "          506      507       508      509      510       511  \n",
              "0   -0.258640  1.33870  0.114820 -0.43046  0.82309  1.543500  \n",
              "1    1.583000  0.88565 -0.053227  0.67796 -1.72010 -0.550510  \n",
              "2    0.057821 -1.44140  1.581800  1.25420  1.02540 -1.018900  \n",
              "3    1.136700 -0.84240  0.993120 -0.44576 -0.78778 -1.490900  \n",
              "4   -0.685860 -0.76161 -0.354560  0.83093 -0.27100  0.388610  \n",
              "..        ...      ...       ...      ...      ...       ...  \n",
              "106 -0.292200  0.13691 -0.439250 -1.56390  0.29082  0.023485  \n",
              "107  1.023700  0.26581  0.174520 -0.29601  1.13600  0.217580  \n",
              "108  1.115700 -0.14259 -0.481300 -1.58790 -0.23976  1.717000  \n",
              "109  0.338310 -1.23960 -1.197600 -0.35008  0.59517  0.803430  \n",
              "110  0.735140  0.88927  0.678760 -1.16430 -0.49661  0.503380  \n",
              "\n",
              "[111 rows x 512 columns]"
            ],
            "text/html": [
              "\n",
              "  <div id=\"df-a5ad2dd2-999d-4028-963b-d384627421ed\">\n",
              "    <div class=\"colab-df-container\">\n",
              "      <div>\n",
              "<style scoped>\n",
              "    .dataframe tbody tr th:only-of-type {\n",
              "        vertical-align: middle;\n",
              "    }\n",
              "\n",
              "    .dataframe tbody tr th {\n",
              "        vertical-align: top;\n",
              "    }\n",
              "\n",
              "    .dataframe thead th {\n",
              "        text-align: right;\n",
              "    }\n",
              "</style>\n",
              "<table border=\"1\" class=\"dataframe\">\n",
              "  <thead>\n",
              "    <tr style=\"text-align: right;\">\n",
              "      <th></th>\n",
              "      <th>0</th>\n",
              "      <th>1</th>\n",
              "      <th>2</th>\n",
              "      <th>3</th>\n",
              "      <th>4</th>\n",
              "      <th>5</th>\n",
              "      <th>6</th>\n",
              "      <th>7</th>\n",
              "      <th>8</th>\n",
              "      <th>9</th>\n",
              "      <th>...</th>\n",
              "      <th>502</th>\n",
              "      <th>503</th>\n",
              "      <th>504</th>\n",
              "      <th>505</th>\n",
              "      <th>506</th>\n",
              "      <th>507</th>\n",
              "      <th>508</th>\n",
              "      <th>509</th>\n",
              "      <th>510</th>\n",
              "      <th>511</th>\n",
              "    </tr>\n",
              "  </thead>\n",
              "  <tbody>\n",
              "    <tr>\n",
              "      <th>0</th>\n",
              "      <td>3.4482</td>\n",
              "      <td>0.001314</td>\n",
              "      <td>0.157470</td>\n",
              "      <td>0.688300</td>\n",
              "      <td>0.152920</td>\n",
              "      <td>0.000000</td>\n",
              "      <td>0.00000</td>\n",
              "      <td>0.096603</td>\n",
              "      <td>0.52135</td>\n",
              "      <td>0.382050</td>\n",
              "      <td>...</td>\n",
              "      <td>-2.94590</td>\n",
              "      <td>0.219960</td>\n",
              "      <td>-0.69045</td>\n",
              "      <td>0.240440</td>\n",
              "      <td>-0.258640</td>\n",
              "      <td>1.33870</td>\n",
              "      <td>0.114820</td>\n",
              "      <td>-0.43046</td>\n",
              "      <td>0.82309</td>\n",
              "      <td>1.543500</td>\n",
              "    </tr>\n",
              "    <tr>\n",
              "      <th>1</th>\n",
              "      <td>3.3019</td>\n",
              "      <td>0.188490</td>\n",
              "      <td>0.553190</td>\n",
              "      <td>0.258290</td>\n",
              "      <td>0.000031</td>\n",
              "      <td>0.000000</td>\n",
              "      <td>0.00000</td>\n",
              "      <td>0.039008</td>\n",
              "      <td>0.43211</td>\n",
              "      <td>0.527160</td>\n",
              "      <td>...</td>\n",
              "      <td>-0.22680</td>\n",
              "      <td>-0.428570</td>\n",
              "      <td>0.74992</td>\n",
              "      <td>-0.111920</td>\n",
              "      <td>1.583000</td>\n",
              "      <td>0.88565</td>\n",
              "      <td>-0.053227</td>\n",
              "      <td>0.67796</td>\n",
              "      <td>-1.72010</td>\n",
              "      <td>-0.550510</td>\n",
              "    </tr>\n",
              "    <tr>\n",
              "      <th>2</th>\n",
              "      <td>2.2894</td>\n",
              "      <td>0.052169</td>\n",
              "      <td>0.438520</td>\n",
              "      <td>0.494030</td>\n",
              "      <td>0.015282</td>\n",
              "      <td>0.000000</td>\n",
              "      <td>0.00000</td>\n",
              "      <td>0.000000</td>\n",
              "      <td>0.00000</td>\n",
              "      <td>0.394840</td>\n",
              "      <td>...</td>\n",
              "      <td>1.15790</td>\n",
              "      <td>0.010118</td>\n",
              "      <td>0.73593</td>\n",
              "      <td>1.356000</td>\n",
              "      <td>0.057821</td>\n",
              "      <td>-1.44140</td>\n",
              "      <td>1.581800</td>\n",
              "      <td>1.25420</td>\n",
              "      <td>1.02540</td>\n",
              "      <td>-1.018900</td>\n",
              "    </tr>\n",
              "    <tr>\n",
              "      <th>3</th>\n",
              "      <td>2.6207</td>\n",
              "      <td>0.000000</td>\n",
              "      <td>0.000000</td>\n",
              "      <td>0.004213</td>\n",
              "      <td>0.109340</td>\n",
              "      <td>0.493440</td>\n",
              "      <td>0.39300</td>\n",
              "      <td>0.000000</td>\n",
              "      <td>0.00000</td>\n",
              "      <td>0.578540</td>\n",
              "      <td>...</td>\n",
              "      <td>-0.69767</td>\n",
              "      <td>1.577800</td>\n",
              "      <td>0.54899</td>\n",
              "      <td>-0.780420</td>\n",
              "      <td>1.136700</td>\n",
              "      <td>-0.84240</td>\n",
              "      <td>0.993120</td>\n",
              "      <td>-0.44576</td>\n",
              "      <td>-0.78778</td>\n",
              "      <td>-1.490900</td>\n",
              "    </tr>\n",
              "    <tr>\n",
              "      <th>4</th>\n",
              "      <td>2.8439</td>\n",
              "      <td>0.000000</td>\n",
              "      <td>0.000000</td>\n",
              "      <td>0.019504</td>\n",
              "      <td>0.260470</td>\n",
              "      <td>0.549860</td>\n",
              "      <td>0.17016</td>\n",
              "      <td>0.010568</td>\n",
              "      <td>0.30520</td>\n",
              "      <td>0.670460</td>\n",
              "      <td>...</td>\n",
              "      <td>-1.49170</td>\n",
              "      <td>-0.688640</td>\n",
              "      <td>-0.69924</td>\n",
              "      <td>0.360740</td>\n",
              "      <td>-0.685860</td>\n",
              "      <td>-0.76161</td>\n",
              "      <td>-0.354560</td>\n",
              "      <td>0.83093</td>\n",
              "      <td>-0.27100</td>\n",
              "      <td>0.388610</td>\n",
              "    </tr>\n",
              "    <tr>\n",
              "      <th>...</th>\n",
              "      <td>...</td>\n",
              "      <td>...</td>\n",
              "      <td>...</td>\n",
              "      <td>...</td>\n",
              "      <td>...</td>\n",
              "      <td>...</td>\n",
              "      <td>...</td>\n",
              "      <td>...</td>\n",
              "      <td>...</td>\n",
              "      <td>...</td>\n",
              "      <td>...</td>\n",
              "      <td>...</td>\n",
              "      <td>...</td>\n",
              "      <td>...</td>\n",
              "      <td>...</td>\n",
              "      <td>...</td>\n",
              "      <td>...</td>\n",
              "      <td>...</td>\n",
              "      <td>...</td>\n",
              "      <td>...</td>\n",
              "      <td>...</td>\n",
              "    </tr>\n",
              "    <tr>\n",
              "      <th>106</th>\n",
              "      <td>2.4101</td>\n",
              "      <td>0.301000</td>\n",
              "      <td>0.021904</td>\n",
              "      <td>0.000415</td>\n",
              "      <td>0.000000</td>\n",
              "      <td>0.000000</td>\n",
              "      <td>0.00000</td>\n",
              "      <td>0.000000</td>\n",
              "      <td>0.00000</td>\n",
              "      <td>0.051206</td>\n",
              "      <td>...</td>\n",
              "      <td>-1.56660</td>\n",
              "      <td>-1.097100</td>\n",
              "      <td>2.77450</td>\n",
              "      <td>0.679850</td>\n",
              "      <td>-0.292200</td>\n",
              "      <td>0.13691</td>\n",
              "      <td>-0.439250</td>\n",
              "      <td>-1.56390</td>\n",
              "      <td>0.29082</td>\n",
              "      <td>0.023485</td>\n",
              "    </tr>\n",
              "    <tr>\n",
              "      <th>107</th>\n",
              "      <td>3.1072</td>\n",
              "      <td>0.000734</td>\n",
              "      <td>0.138890</td>\n",
              "      <td>0.688740</td>\n",
              "      <td>0.171630</td>\n",
              "      <td>0.000000</td>\n",
              "      <td>0.00000</td>\n",
              "      <td>0.171260</td>\n",
              "      <td>0.54746</td>\n",
              "      <td>0.280340</td>\n",
              "      <td>...</td>\n",
              "      <td>-0.32440</td>\n",
              "      <td>-1.341500</td>\n",
              "      <td>-1.51650</td>\n",
              "      <td>0.870840</td>\n",
              "      <td>1.023700</td>\n",
              "      <td>0.26581</td>\n",
              "      <td>0.174520</td>\n",
              "      <td>-0.29601</td>\n",
              "      <td>1.13600</td>\n",
              "      <td>0.217580</td>\n",
              "    </tr>\n",
              "    <tr>\n",
              "      <th>108</th>\n",
              "      <td>2.4101</td>\n",
              "      <td>0.001095</td>\n",
              "      <td>0.151180</td>\n",
              "      <td>0.688720</td>\n",
              "      <td>0.159000</td>\n",
              "      <td>0.000000</td>\n",
              "      <td>0.00000</td>\n",
              "      <td>0.000000</td>\n",
              "      <td>0.00000</td>\n",
              "      <td>0.194760</td>\n",
              "      <td>...</td>\n",
              "      <td>-0.49572</td>\n",
              "      <td>-0.832130</td>\n",
              "      <td>0.52386</td>\n",
              "      <td>0.189400</td>\n",
              "      <td>1.115700</td>\n",
              "      <td>-0.14259</td>\n",
              "      <td>-0.481300</td>\n",
              "      <td>-1.58790</td>\n",
              "      <td>-0.23976</td>\n",
              "      <td>1.717000</td>\n",
              "    </tr>\n",
              "    <tr>\n",
              "      <th>109</th>\n",
              "      <td>2.6207</td>\n",
              "      <td>0.117370</td>\n",
              "      <td>0.526200</td>\n",
              "      <td>0.354590</td>\n",
              "      <td>0.001831</td>\n",
              "      <td>0.000000</td>\n",
              "      <td>0.00000</td>\n",
              "      <td>0.039008</td>\n",
              "      <td>0.43211</td>\n",
              "      <td>0.527160</td>\n",
              "      <td>...</td>\n",
              "      <td>-0.87353</td>\n",
              "      <td>0.063740</td>\n",
              "      <td>0.20128</td>\n",
              "      <td>0.090828</td>\n",
              "      <td>0.338310</td>\n",
              "      <td>-1.23960</td>\n",
              "      <td>-1.197600</td>\n",
              "      <td>-0.35008</td>\n",
              "      <td>0.59517</td>\n",
              "      <td>0.803430</td>\n",
              "    </tr>\n",
              "    <tr>\n",
              "      <th>110</th>\n",
              "      <td>2.7144</td>\n",
              "      <td>0.000000</td>\n",
              "      <td>0.020058</td>\n",
              "      <td>0.538580</td>\n",
              "      <td>0.436120</td>\n",
              "      <td>0.005236</td>\n",
              "      <td>0.00000</td>\n",
              "      <td>0.000000</td>\n",
              "      <td>0.00000</td>\n",
              "      <td>0.578540</td>\n",
              "      <td>...</td>\n",
              "      <td>0.69068</td>\n",
              "      <td>0.480600</td>\n",
              "      <td>1.87800</td>\n",
              "      <td>-1.188400</td>\n",
              "      <td>0.735140</td>\n",
              "      <td>0.88927</td>\n",
              "      <td>0.678760</td>\n",
              "      <td>-1.16430</td>\n",
              "      <td>-0.49661</td>\n",
              "      <td>0.503380</td>\n",
              "    </tr>\n",
              "  </tbody>\n",
              "</table>\n",
              "<p>111 rows × 512 columns</p>\n",
              "</div>\n",
              "      <button class=\"colab-df-convert\" onclick=\"convertToInteractive('df-a5ad2dd2-999d-4028-963b-d384627421ed')\"\n",
              "              title=\"Convert this dataframe to an interactive table.\"\n",
              "              style=\"display:none;\">\n",
              "        \n",
              "  <svg xmlns=\"http://www.w3.org/2000/svg\" height=\"24px\"viewBox=\"0 0 24 24\"\n",
              "       width=\"24px\">\n",
              "    <path d=\"M0 0h24v24H0V0z\" fill=\"none\"/>\n",
              "    <path d=\"M18.56 5.44l.94 2.06.94-2.06 2.06-.94-2.06-.94-.94-2.06-.94 2.06-2.06.94zm-11 1L8.5 8.5l.94-2.06 2.06-.94-2.06-.94L8.5 2.5l-.94 2.06-2.06.94zm10 10l.94 2.06.94-2.06 2.06-.94-2.06-.94-.94-2.06-.94 2.06-2.06.94z\"/><path d=\"M17.41 7.96l-1.37-1.37c-.4-.4-.92-.59-1.43-.59-.52 0-1.04.2-1.43.59L10.3 9.45l-7.72 7.72c-.78.78-.78 2.05 0 2.83L4 21.41c.39.39.9.59 1.41.59.51 0 1.02-.2 1.41-.59l7.78-7.78 2.81-2.81c.8-.78.8-2.07 0-2.86zM5.41 20L4 18.59l7.72-7.72 1.47 1.35L5.41 20z\"/>\n",
              "  </svg>\n",
              "      </button>\n",
              "      \n",
              "  <style>\n",
              "    .colab-df-container {\n",
              "      display:flex;\n",
              "      flex-wrap:wrap;\n",
              "      gap: 12px;\n",
              "    }\n",
              "\n",
              "    .colab-df-convert {\n",
              "      background-color: #E8F0FE;\n",
              "      border: none;\n",
              "      border-radius: 50%;\n",
              "      cursor: pointer;\n",
              "      display: none;\n",
              "      fill: #1967D2;\n",
              "      height: 32px;\n",
              "      padding: 0 0 0 0;\n",
              "      width: 32px;\n",
              "    }\n",
              "\n",
              "    .colab-df-convert:hover {\n",
              "      background-color: #E2EBFA;\n",
              "      box-shadow: 0px 1px 2px rgba(60, 64, 67, 0.3), 0px 1px 3px 1px rgba(60, 64, 67, 0.15);\n",
              "      fill: #174EA6;\n",
              "    }\n",
              "\n",
              "    [theme=dark] .colab-df-convert {\n",
              "      background-color: #3B4455;\n",
              "      fill: #D2E3FC;\n",
              "    }\n",
              "\n",
              "    [theme=dark] .colab-df-convert:hover {\n",
              "      background-color: #434B5C;\n",
              "      box-shadow: 0px 1px 3px 1px rgba(0, 0, 0, 0.15);\n",
              "      filter: drop-shadow(0px 1px 2px rgba(0, 0, 0, 0.3));\n",
              "      fill: #FFFFFF;\n",
              "    }\n",
              "  </style>\n",
              "\n",
              "      <script>\n",
              "        const buttonEl =\n",
              "          document.querySelector('#df-a5ad2dd2-999d-4028-963b-d384627421ed button.colab-df-convert');\n",
              "        buttonEl.style.display =\n",
              "          google.colab.kernel.accessAllowed ? 'block' : 'none';\n",
              "\n",
              "        async function convertToInteractive(key) {\n",
              "          const element = document.querySelector('#df-a5ad2dd2-999d-4028-963b-d384627421ed');\n",
              "          const dataTable =\n",
              "            await google.colab.kernel.invokeFunction('convertToInteractive',\n",
              "                                                     [key], {});\n",
              "          if (!dataTable) return;\n",
              "\n",
              "          const docLinkHtml = 'Like what you see? Visit the ' +\n",
              "            '<a target=\"_blank\" href=https://colab.research.google.com/notebooks/data_table.ipynb>data table notebook</a>'\n",
              "            + ' to learn more about interactive tables.';\n",
              "          element.innerHTML = '';\n",
              "          dataTable['output_type'] = 'display_data';\n",
              "          await google.colab.output.renderOutput(dataTable, element);\n",
              "          const docLink = document.createElement('div');\n",
              "          docLink.innerHTML = docLinkHtml;\n",
              "          element.appendChild(docLink);\n",
              "        }\n",
              "      </script>\n",
              "    </div>\n",
              "  </div>\n",
              "  "
            ]
          },
          "metadata": {},
          "execution_count": 8
        }
      ],
      "source": [
        "df"
      ]
    },
    {
      "cell_type": "code",
      "execution_count": null,
      "metadata": {
        "id": "bWfCe-xltCAr"
      },
      "outputs": [],
      "source": [
        "Xf = df.values\n",
        "X = Xf[:,1:]\n",
        "y = Xf[:,0]"
      ]
    },
    {
      "cell_type": "code",
      "execution_count": null,
      "metadata": {
        "colab": {
          "base_uri": "https://localhost:8080/"
        },
        "id": "LW-HHQFzyBAH",
        "outputId": "c63bd400-fe1d-4ce3-f8d7-48d99de9d340"
      },
      "outputs": [
        {
          "output_type": "stream",
          "name": "stdout",
          "text": [
            "(111, 511)\n",
            "(111,)\n"
          ]
        }
      ],
      "source": [
        "print(X.shape)\n",
        "print(y.shape)"
      ]
    },
    {
      "cell_type": "markdown",
      "metadata": {
        "id": "-Scr1CJNvP1g"
      },
      "source": [
        "##Genetic Algorithm\n"
      ]
    },
    {
      "cell_type": "markdown",
      "metadata": {
        "id": "DYun30SjhYy1"
      },
      "source": [
        "### Elastic Net"
      ]
    },
    {
      "cell_type": "code",
      "execution_count": null,
      "metadata": {
        "id": "iVWL7p_RylEn"
      },
      "outputs": [],
      "source": [
        "def objective_ENet(h): # h is a two column matrix\n",
        "  kf = KFold(n_splits=10,shuffle=True,random_state=123)\n",
        "  scale = StandardScaler()\n",
        "  output = [] \n",
        "  a = h[0]\n",
        "  l = h[1]\n",
        "  model = ElasticNet(alpha=a,l1_ratio=l,max_iter=5000)\n",
        "  PE = []\n",
        "  for idxtrain, idxtest in kf.split(X):\n",
        "    Xtrain = X[idxtrain]\n",
        "    ytrain = y[idxtrain]\n",
        "    Xtrain_s = scale.fit_transform(Xtrain)\n",
        "    Xtest = X[idxtest]\n",
        "    ytest = y[idxtest]\n",
        "    Xtest_s = scale.transform(Xtest)\n",
        "    model.fit(Xtrain_s,ytrain)\n",
        "    PE.append(MSE(ytest,model.predict(Xtest_s)))\n",
        "  return np.mean(PE)"
      ]
    },
    {
      "cell_type": "code",
      "execution_count": null,
      "metadata": {
        "colab": {
          "base_uri": "https://localhost:8080/",
          "height": 688
        },
        "id": "yMKJhNFPhtzO",
        "outputId": "9c82f979-f116-4041-fac6-e9de66e9a154"
      },
      "outputs": [
        {
          "output_type": "stream",
          "name": "stdout",
          "text": [
            " The best solution found:\n",
            " [0.98704225 0.00508052]\n",
            "\n",
            " Objective function:\n",
            " 0.2578499512538454\n"
          ]
        },
        {
          "output_type": "display_data",
          "data": {
            "text/plain": [
              "<Figure size 900x600 with 1 Axes>"
            ],
            "image/png": "[encoded data removed]"
          },
          "metadata": {
            "image/png": {
              "width": 844,
              "height": 579
            },
            "needs_background": "light"
          }
        }
      ],
      "source": [
        "varbound=np.array([[0,3],[0,1]])\n",
        "\n",
        "model=ga(function=objective_ENet,dimension=2,variable_type='real',variable_boundaries=varbound)\n",
        "\n",
        "model.run()"
      ]
    },
    {
      "cell_type": "markdown",
      "metadata": {
        "id": "f-ZA7IqXi0dm"
      },
      "source": [
        "### Support Vector Regression"
      ]
    },
    {
      "cell_type": "code",
      "execution_count": null,
      "metadata": {
        "id": "NfayCE8Ui48F"
      },
      "outputs": [],
      "source": [
        "def objective_SVR(h): # h is a two column matrix\n",
        "  kf = KFold(n_splits=10,shuffle=True,random_state=123)\n",
        "  scale = StandardScaler()\n",
        "  output = [] \n",
        "  Reg_Param = h[0] # column matrix \n",
        "  e = h[1]\n",
        "  model = SVR(C=Reg_Param,kernel = 'linear', epsilon=e,max_iter=5000)\n",
        "  PE = []\n",
        "  for idxtrain, idxtest in kf.split(X):\n",
        "    Xtrain = X[idxtrain]\n",
        "    ytrain = y[idxtrain]\n",
        "    Xtrain_s = scale.fit_transform(Xtrain)\n",
        "    Xtest = X[idxtest]\n",
        "    ytest = y[idxtest]\n",
        "    Xtest_s = scale.transform(Xtest)\n",
        "    model.fit(Xtrain_s,ytrain)\n",
        "    PE.append(MSE(ytest,model.predict(Xtest_s)))\n",
        "  return np.mean(PE)"
      ]
    },
    {
      "cell_type": "code",
      "execution_count": null,
      "metadata": {
        "id": "FxdPsWsBjaA8",
        "colab": {
          "base_uri": "https://localhost:8080/",
          "height": 688
        },
        "outputId": "cd423952-6b75-4b3d-eada-507e70eb1c64"
      },
      "outputs": [
        {
          "output_type": "stream",
          "name": "stdout",
          "text": [
            " The best solution found:\n",
            " [1.80854012 0.13022291]\n",
            "\n",
            " Objective function:\n",
            " 0.2685879562033867\n"
          ]
        },
        {
          "output_type": "display_data",
          "data": {
            "text/plain": [
              "<Figure size 900x600 with 1 Axes>"
            ],
            "image/png": "[encoded data removed]"
          },
          "metadata": {
            "image/png": {
              "width": 817,
              "height": 579
            },
            "needs_background": "light"
          }
        }
      ],
      "source": [
        "varbound=np.array([[0,3],[0,10]])\n",
        "\n",
        "model=ga(function=objective_SVR,dimension=2,variable_type='real',variable_boundaries=varbound)\n",
        "\n",
        "model.run()"
      ]
    },
    {
      "cell_type": "markdown",
      "metadata": {
        "id": "joxS9veRzgPP"
      },
      "source": [
        "##Simulated Annealing"
      ]
    },
    {
      "cell_type": "markdown",
      "metadata": {
        "id": "as4U1hh0j6VR"
      },
      "source": [
        "### ElasticNet"
      ]
    },
    {
      "cell_type": "code",
      "execution_count": null,
      "metadata": {
        "id": "yyH9z_bMkBSJ"
      },
      "outputs": [],
      "source": [
        "def objective_ENet(h): # h is a two column matrix\n",
        "  kf = KFold(n_splits=10,shuffle=True,random_state=123)\n",
        "  scale = StandardScaler()\n",
        "  output = [] \n",
        "  a = h[0] # column matrix \n",
        "  l = h[1]\n",
        "  model = ElasticNet(alpha=a,l1_ratio=l,max_iter=5000)\n",
        "  PE = []\n",
        "  for idxtrain, idxtest in kf.split(X):\n",
        "    Xtrain = X[idxtrain]\n",
        "    ytrain = y[idxtrain]\n",
        "    Xtrain_s = scale.fit_transform(Xtrain)\n",
        "    Xtest = X[idxtest]\n",
        "    ytest = y[idxtest]\n",
        "    Xtest_s = scale.transform(Xtest)\n",
        "    model.fit(Xtrain_s,ytrain)\n",
        "    PE.append(MSE(ytest,model.predict(Xtest_s)))\n",
        "  return np.mean(PE)"
      ]
    },
    {
      "cell_type": "code",
      "execution_count": null,
      "metadata": {
        "id": "PzEqiKrf0Wm_"
      },
      "outputs": [],
      "source": [
        "lw = [0,0]\n",
        "up = [3,1]\n",
        "ret_ENet = dual_annealing(objective_ENet, bounds=list(zip(lw, up)),maxiter=10000,maxfun=10000)"
      ]
    },
    {
      "cell_type": "code",
      "execution_count": null,
      "metadata": {
        "id": "aAJ3qeF-6Wwx",
        "colab": {
          "base_uri": "https://localhost:8080/"
        },
        "outputId": "f1f09ff8-c09b-4275-94de-c24b57f96e52"
      },
      "outputs": [
        {
          "output_type": "execute_result",
          "data": {
            "text/plain": [
              "array([1.00128008, 0.00486568])"
            ]
          },
          "metadata": {},
          "execution_count": 18
        }
      ],
      "source": [
        "ret_ENet.x"
      ]
    },
    {
      "cell_type": "code",
      "execution_count": null,
      "metadata": {
        "id": "8npMLpLBkvxq",
        "colab": {
          "base_uri": "https://localhost:8080/"
        },
        "outputId": "64f83e52-399f-4284-c23e-9143ab055ae6"
      },
      "outputs": [
        {
          "output_type": "execute_result",
          "data": {
            "text/plain": [
              "     fun: 0.2578164718558199\n",
              " message: ['Maximum number of function call reached during dual annealing']\n",
              "    nfev: 10149\n",
              "    nhev: 0\n",
              "     nit: 1302\n",
              "    njev: 1645\n",
              "  status: 0\n",
              " success: False\n",
              "       x: array([1.00128008, 0.00486568])"
            ]
          },
          "metadata": {},
          "execution_count": 19
        }
      ],
      "source": [
        "ret_ENet"
      ]
    },
    {
      "cell_type": "markdown",
      "metadata": {
        "id": "DHQ4mZeaj6KY"
      },
      "source": [
        "### Support Vector Regression"
      ]
    },
    {
      "cell_type": "code",
      "execution_count": null,
      "metadata": {
        "id": "UFjf0deqzfsK"
      },
      "outputs": [],
      "source": [
        "def objective_SVR(h): # h is a two column matrix\n",
        "  kf = KFold(n_splits=10,shuffle=True,random_state=123)\n",
        "  scale = StandardScaler()\n",
        "  output = [] \n",
        "  Reg_Param = h[0] # column matrix \n",
        "  e = h[1]\n",
        "  model = SVR(C=Reg_Param,kernel = 'linear', epsilon=e,max_iter=5000)\n",
        "  PE = []\n",
        "  for idxtrain, idxtest in kf.split(X):\n",
        "    Xtrain = X[idxtrain]\n",
        "    ytrain = y[idxtrain]\n",
        "    Xtrain_s = scale.fit_transform(Xtrain)\n",
        "    Xtest = X[idxtest]\n",
        "    ytest = y[idxtest]\n",
        "    Xtest_s = scale.transform(Xtest)\n",
        "    model.fit(Xtrain_s,ytrain)\n",
        "    PE.append(MSE(ytest,model.predict(Xtest_s)))\n",
        "  return np.mean(PE)"
      ]
    },
    {
      "cell_type": "code",
      "execution_count": null,
      "metadata": {
        "id": "Vl1YvyhgktwL"
      },
      "outputs": [],
      "source": [
        "lw = [0.000001,0]\n",
        "up = [10,10]\n",
        "ret_SVR = dual_annealing(objective_SVR, bounds=list(zip(lw, up)),maxiter=10000,maxfun=10000)"
      ]
    },
    {
      "cell_type": "code",
      "execution_count": null,
      "metadata": {
        "id": "kB9sTB880HDp",
        "colab": {
          "base_uri": "https://localhost:8080/"
        },
        "outputId": "dfddc24f-f8f9-4cf7-b80d-72c6ecd50cac"
      },
      "outputs": [
        {
          "output_type": "execute_result",
          "data": {
            "text/plain": [
              "array([3.14809625, 0.13078507])"
            ]
          },
          "metadata": {},
          "execution_count": 22
        }
      ],
      "source": [
        "ret_SVR.x"
      ]
    },
    {
      "cell_type": "code",
      "execution_count": null,
      "metadata": {
        "id": "o9ErMzxMkuZs",
        "colab": {
          "base_uri": "https://localhost:8080/"
        },
        "outputId": "5e43ed62-5430-4727-fe11-9b03b2267090"
      },
      "outputs": [
        {
          "output_type": "execute_result",
          "data": {
            "text/plain": [
              "     fun: 0.2685905755887619\n",
              " message: ['Maximum number of function call reached during dual annealing']\n",
              "    nfev: 10118\n",
              "    nhev: 0\n",
              "     nit: 2186\n",
              "    njev: 456\n",
              "  status: 0\n",
              " success: False\n",
              "       x: array([3.14809625, 0.13078507])"
            ]
          },
          "metadata": {},
          "execution_count": 23
        }
      ],
      "source": [
        "ret_SVR"
      ]
    },
    {
      "cell_type": "markdown",
      "metadata": {
        "id": "C33LVCj1zYAt"
      },
      "source": [
        "##Particle Swarm Optimization"
      ]
    },
    {
      "cell_type": "markdown",
      "metadata": {
        "id": "egvlcJHAmxx0"
      },
      "source": [
        "### Elastic Net"
      ]
    },
    {
      "cell_type": "code",
      "execution_count": null,
      "metadata": {
        "id": "n9DaB3EYzlmx"
      },
      "outputs": [],
      "source": [
        "# This is the technical format if you want to apply PSO\n",
        "def objective_pso_ENet(h): # h is a two column matrix\n",
        "  kf = KFold(n_splits=10,shuffle=True,random_state=123)\n",
        "  scale = StandardScaler()\n",
        "  output = [] \n",
        "  for i in range(h.shape[0]):\n",
        "    a = h[i,0] # column matrix \n",
        "    l = h[i,1]\n",
        "    model = ElasticNet(alpha=a,l1_ratio=l,max_iter=5000)\n",
        "    PE = []\n",
        "    for idxtrain, idxtest in kf.split(X):\n",
        "      Xtrain = X[idxtrain]\n",
        "      ytrain = y[idxtrain]\n",
        "      Xtest = X[idxtest]\n",
        "      ytest = y[idxtest]\n",
        "\n",
        "      Xtrain_s = scale.fit_transform(Xtrain)\n",
        "      Xtest_s = scale.transform(Xtest)\n",
        "      model.fit(Xtrain_s,ytrain)\n",
        "      PE.append(MSE(ytest,model.predict(Xtest_s)))\n",
        "    output.append(np.mean(PE))\n",
        "  return output"
      ]
    },
    {
      "cell_type": "code",
      "execution_count": null,
      "metadata": {
        "id": "SWzjx9p1mfuS",
        "colab": {
          "base_uri": "https://localhost:8080/"
        },
        "outputId": "bf1d33a7-23e9-4f90-b946-14697b20cae4"
      },
      "outputs": [
        {
          "output_type": "stream",
          "name": "stderr",
          "text": [
            "2022-07-31 00:22:31,691 - pyswarms.single.global_best - INFO - Optimize for 1000 iters with {'c1': 0.25, 'c2': 0.25, 'w': 0.5}\n",
            "pyswarms.single.global_best: 100%|██████████|1000/1000, best_cost=0.26\n",
            "2022-07-31 00:47:27,666 - pyswarms.single.global_best - INFO - Optimization finished | best cost: 0.25977995536113646, best pos: [0.40116452 0.14299757]\n"
          ]
        }
      ],
      "source": [
        "max = np.array([3,1])\n",
        "min = np.array([0,0])\n",
        "bounds = (min, max)\n",
        "options = {'c1': 0.25, 'c2': 0.25, 'w': 0.5}\n",
        "optimizer = ps.single.GlobalBestPSO(n_particles=25, dimensions=2, options=options, bounds=bounds)\n",
        "cost, pos = optimizer.optimize(objective_pso_ENet, iters=1000)"
      ]
    },
    {
      "cell_type": "markdown",
      "metadata": {
        "id": "4EpuQ2Xem1Jn"
      },
      "source": [
        "### Support Vector Regression"
      ]
    },
    {
      "cell_type": "code",
      "execution_count": null,
      "metadata": {
        "id": "Nmq82y8gm3UL"
      },
      "outputs": [],
      "source": [
        "# This is the technical format if you want to apply PSO\n",
        "def objective_pso_SVR(h): # h is a two column matrix\n",
        "  kf = KFold(n_splits=10,shuffle=True,random_state=123)\n",
        "  scale = StandardScaler()\n",
        "  output = [] \n",
        "  for i in range(h.shape[0]):\n",
        "    Reg_Param = h[i,0] # column matrix \n",
        "    e = h[i,1]\n",
        "    model = SVR(C=Reg_Param,kernel = 'linear', epsilon=e,max_iter=5000)\n",
        "    PE = []\n",
        "    for idxtrain, idxtest in kf.split(X):\n",
        "      Xtrain = X[idxtrain]\n",
        "      ytrain = y[idxtrain]\n",
        "      Xtest = X[idxtest]\n",
        "      ytest = y[idxtest]\n",
        "\n",
        "      Xtrain_s = scale.fit_transform(Xtrain)\n",
        "      Xtest_s = scale.transform(Xtest)\n",
        "      model.fit(Xtrain_s,ytrain)\n",
        "      PE.append(MSE(ytest,model.predict(Xtest_s)))\n",
        "    output.append(np.mean(PE))\n",
        "  return output"
      ]
    },
    {
      "cell_type": "code",
      "execution_count": null,
      "metadata": {
        "id": "dh3uiBvtnGQm",
        "colab": {
          "base_uri": "https://localhost:8080/"
        },
        "outputId": "7f5eb45a-0a7f-4f03-f039-dbbe18f816c7"
      },
      "outputs": [
        {
          "output_type": "stream",
          "name": "stderr",
          "text": [
            "2022-07-31 00:47:27,745 - pyswarms.single.global_best - INFO - Optimize for 1000 iters with {'c1': 0.25, 'c2': 0.25, 'w': 0.5}\n",
            "pyswarms.single.global_best: 100%|██████████|1000/1000, best_cost=0.269\n",
            "2022-07-31 01:06:31,186 - pyswarms.single.global_best - INFO - Optimization finished | best cost: 0.2685897179185274, best pos: [0.70351779 0.12681904]\n"
          ]
        }
      ],
      "source": [
        "max = np.array([3,10])\n",
        "min = np.array([0,0])\n",
        "bounds = (min, max)\n",
        "options = {'c1': 0.25, 'c2': 0.25, 'w': 0.5}\n",
        "optimizer = ps.single.GlobalBestPSO(n_particles=25, dimensions=2, options=options, bounds=bounds)\n",
        "cost, pos = optimizer.optimize(objective_pso_SVR, iters=1000)"
      ]
    },
    {
      "cell_type": "code",
      "execution_count": null,
      "metadata": {
        "id": "IGoTfsrrKEQa"
      },
      "outputs": [],
      "source": [
        ""
      ]
    },
    {
      "cell_type": "markdown",
      "metadata": {
        "id": "omVondVUQSB-"
      },
      "source": [
        "### Initial Test Results\n",
        "\n",
        "Initial tests results suggest the following:\n",
        "\n",
        "- The best model for ElasticNet is Genetic Algorithm with an alpha of 1.02997849 and an L1 value of 0.00443261. At that point the MSE = 0.2576810725812586\n",
        "- The best model for SVR is Simulated Annealing with an epsilon value of 8.93467787e+00 and a C value of 8.85328690e-07. At that point the MSE = 0.37901261606757786"
      ]
    },
    {
      "cell_type": "code",
      "execution_count": null,
      "metadata": {
        "id": "xYNecFdnSLB3"
      },
      "outputs": [],
      "source": [
        "# Check if regularization has been implemented SVR \n",
        "# Keep track of model size\n",
        "# Apply similar ideas to regression problems\n",
        "# Make a GitHub page and use Alpha and Ridge\n",
        "# Try different regressors (ie. random forests)\n",
        "# Consider contributing to Medium "
      ]
    },
    {
      "cell_type": "markdown",
      "metadata": {
        "id": "RSalK7KHQiBj"
      },
      "source": [
        "## Lasso"
      ]
    },
    {
      "cell_type": "code",
      "execution_count": null,
      "metadata": {
        "id": "07u2ALOhXSyN"
      },
      "outputs": [],
      "source": [
        "from sklearn.linear_model import Ridge, Lasso, ElasticNet"
      ]
    },
    {
      "cell_type": "markdown",
      "metadata": {
        "id": "oCA08Z6RSplt"
      },
      "source": [
        "### Genetic Algorithm"
      ]
    },
    {
      "cell_type": "code",
      "execution_count": null,
      "metadata": {
        "id": "N0lkakZ5QTuA"
      },
      "outputs": [],
      "source": [
        "def objective_Las(h): # h is a two column matrix\n",
        "  kf = KFold(n_splits=10,shuffle=True,random_state=123)\n",
        "  scale = StandardScaler()\n",
        "  output = [] \n",
        "  a = h # column matrix \n",
        "  model = Lasso(alpha= a, fit_intercept = False, max_iter=10000)\n",
        "  PE = []\n",
        "  for idxtrain, idxtest in kf.split(X):\n",
        "    Xtrain = X[idxtrain]\n",
        "    ytrain = y[idxtrain]\n",
        "    Xtrain_s = scale.fit_transform(Xtrain)\n",
        "    Xtest = X[idxtest]\n",
        "    ytest = y[idxtest]\n",
        "    Xtest_s = scale.transform(Xtest)\n",
        "    model.fit(Xtrain_s,ytrain)\n",
        "    PE.append(MSE(ytest,model.predict(Xtest_s)))\n",
        "  return np.mean(PE)"
      ]
    },
    {
      "cell_type": "code",
      "execution_count": null,
      "metadata": {
        "id": "L7rAKepfSewN",
        "colab": {
          "base_uri": "https://localhost:8080/",
          "height": 688
        },
        "outputId": "91cde232-82f7-4558-85ce-dbee5e239b17"
      },
      "outputs": [
        {
          "output_type": "stream",
          "name": "stdout",
          "text": [
            " The best solution found:\n",
            " [0.00172856]\n",
            "\n",
            " Objective function:\n",
            " 10.64183719726182\n"
          ]
        },
        {
          "output_type": "display_data",
          "data": {
            "text/plain": [
              "<Figure size 900x600 with 1 Axes>"
            ],
            "image/png": "[encoded data removed]"
          },
          "metadata": {
            "image/png": {
              "width": 817,
              "height": 579
            },
            "needs_background": "light"
          }
        }
      ],
      "source": [
        "varbound=np.array([[0,10]])\n",
        "\n",
        "model=ga(function=objective_Las,dimension=1,variable_type='real',variable_boundaries=varbound)\n",
        "\n",
        "model.run()"
      ]
    },
    {
      "cell_type": "markdown",
      "source": [
        "### Simulated Annealing\n"
      ],
      "metadata": {
        "id": "8HBOD1K-Wx0v"
      }
    },
    {
      "cell_type": "code",
      "execution_count": null,
      "metadata": {
        "id": "LPplAklcS15J"
      },
      "outputs": [],
      "source": [
        "lw = [0]\n",
        "up = [100]\n",
        "ret_Las = dual_annealing(objective_Las, bounds=list(zip(lw, up)),maxiter=10000,maxfun=10000)"
      ]
    },
    {
      "cell_type": "code",
      "execution_count": null,
      "metadata": {
        "id": "VYbQPAFoTB-9"
      },
      "outputs": [],
      "source": [
        "ret_Las.x"
      ]
    },
    {
      "cell_type": "code",
      "execution_count": null,
      "metadata": {
        "id": "SC040YvaTEpF",
        "colab": {
          "base_uri": "https://localhost:8080/"
        },
        "outputId": "fd27db38-ff47-427d-822c-0e8531dc1f65"
      },
      "outputs": [
        {
          "output_type": "execute_result",
          "data": {
            "text/plain": [
              "     fun: 10.618699676541059\n",
              " message: ['Maximum number of function call reached during dual annealing']\n",
              "    nfev: 10008\n",
              "    nhev: 0\n",
              "     nit: 1780\n",
              "    njev: 3222\n",
              "  status: 0\n",
              " success: False\n",
              "       x: array([4.45449655e-05])"
            ]
          },
          "metadata": {},
          "execution_count": 26
        }
      ],
      "source": [
        "ret_Las"
      ]
    },
    {
      "cell_type": "markdown",
      "source": [
        "### Partical Swarm Optimization"
      ],
      "metadata": {
        "id": "nzGuizKjXQYK"
      }
    },
    {
      "cell_type": "code",
      "execution_count": 40,
      "metadata": {
        "id": "SRP_mklJTIQH"
      },
      "outputs": [],
      "source": [
        "def objective_pso_Las(h): # h is a two column matrix\n",
        "  kf = KFold(n_splits=10,shuffle=True,random_state=123)\n",
        "  scale = StandardScaler()\n",
        "  output = [] \n",
        "  for i in range(h.shape[0]):\n",
        "    a = h[i,0] # column matrix \n",
        "    model = Lasso(alpha= a, fit_intercept = False,max_iter=5000)\n",
        "    PE = []\n",
        "    for idxtrain, idxtest in kf.split(X):\n",
        "      Xtrain = X[idxtrain]\n",
        "      ytrain = y[idxtrain]\n",
        "      Xtest = X[idxtest]\n",
        "      ytest = y[idxtest]\n",
        "\n",
        "      Xtrain_s = scale.fit_transform(Xtrain)\n",
        "      Xtest_s = scale.transform(Xtest)\n",
        "      \n",
        "      model.fit(Xtrain_s,ytrain)\n",
        "      PE.append(MSE(ytest,model.predict(Xtest_s)))\n",
        "    output.append(np.mean(PE))\n",
        "  return output"
      ]
    },
    {
      "cell_type": "code",
      "execution_count": 41,
      "metadata": {
        "id": "GNppArggT7WM",
        "colab": {
          "base_uri": "https://localhost:8080/"
        },
        "outputId": "dd57dc8c-5dc1-4e70-ee0e-9c553ae257a2"
      },
      "outputs": [
        {
          "output_type": "stream",
          "name": "stderr",
          "text": [
            "2022-07-31 16:22:32,149 - pyswarms.single.global_best - INFO - Optimize for 1000 iters with {'c1': 0.25, 'c2': 0.25, 'w': 0.5}\n",
            "pyswarms.single.global_best: 100%|██████████|1000/1000, best_cost=11.4\n",
            "2022-07-31 16:38:59,236 - pyswarms.single.global_best - INFO - Optimization finished | best cost: 11.356139319181818, best pos: [30.41598191]\n"
          ]
        }
      ],
      "source": [
        "max = np.array([100])\n",
        "min = np.array([0])\n",
        "bounds = (min, max)\n",
        "options = {'c1': 0.25, 'c2': 0.25, 'w': 0.5}\n",
        "optimizer = ps.single.GlobalBestPSO(n_particles=25, dimensions=1, options=options, bounds=bounds)\n",
        "cost, pos = optimizer.optimize(objective_pso_Las, iters=1000)"
      ]
    },
    {
      "cell_type": "markdown",
      "source": [
        "### Ridge"
      ],
      "metadata": {
        "id": "x1HxcuWjWXLU"
      }
    },
    {
      "cell_type": "code",
      "source": [
        "def objective_Rid(h): # h is a two column matrix\n",
        "  kf = KFold(n_splits=10,shuffle=True,random_state=123)\n",
        "  scale = StandardScaler()\n",
        "  output = [] \n",
        "  a = h # column matrix \n",
        "  model = Ridge(alpha= a, fit_intercept = False, max_iter=10000)\n",
        "  PE = []\n",
        "  for idxtrain, idxtest in kf.split(X):\n",
        "    Xtrain = X[idxtrain]\n",
        "    ytrain = y[idxtrain]\n",
        "    Xtrain_s = scale.fit_transform(Xtrain)\n",
        "    Xtest = X[idxtest]\n",
        "    ytest = y[idxtest]\n",
        "    Xtest_s = scale.transform(Xtest)\n",
        "    model.fit(Xtrain_s,ytrain)\n",
        "    PE.append(MSE(ytest,model.predict(Xtest_s)))\n",
        "  return np.mean(PE)"
      ],
      "metadata": {
        "id": "RTJQjWsQWXk7"
      },
      "execution_count": null,
      "outputs": []
    },
    {
      "cell_type": "markdown",
      "source": [
        "### Genetic Algorithm"
      ],
      "metadata": {
        "id": "7hEqzxJaWeBo"
      }
    },
    {
      "cell_type": "code",
      "source": [
        "varbound=np.array([[0,10]])\n",
        "\n",
        "model=ga(function=objective_Rid,dimension=1,variable_type='real',variable_boundaries=varbound)\n",
        "\n",
        "model.run()"
      ],
      "metadata": {
        "id": "nf5kWrxMWdrC",
        "colab": {
          "base_uri": "https://localhost:8080/",
          "height": 387
        },
        "outputId": "c4f71173-57f6-4274-bf2b-63a9fa8181a9"
      },
      "execution_count": null,
      "outputs": [
        {
          "output_type": "stream",
          "name": "stdout",
          "text": [
            " The best solution found:\n",
            " [0.00028999]\n",
            "\n",
            " Objective function:\n",
            " 10.668241850432889\n"
          ]
        },
        {
          "output_type": "display_data",
          "data": {
            "text/plain": [
              "<Figure size 432x288 with 1 Axes>"
            ],
            "image/png": "[encoded data removed]"
          },
          "metadata": {
            "needs_background": "light"
          }
        }
      ]
    },
    {
      "cell_type": "markdown",
      "source": [
        "### Simulated Annealing"
      ],
      "metadata": {
        "id": "jmUoz35cWviP"
      }
    },
    {
      "cell_type": "code",
      "source": [
        "lw = [0]\n",
        "up = [100]\n",
        "ret_Rid = dual_annealing(objective_Rid, bounds=list(zip(lw, up)),maxiter=10000,maxfun=10000)"
      ],
      "metadata": {
        "id": "1R8S0BtHW5N6"
      },
      "execution_count": null,
      "outputs": []
    },
    {
      "cell_type": "code",
      "source": [
        "ret_Rid.x"
      ],
      "metadata": {
        "id": "1e74z4UUW5uj"
      },
      "execution_count": null,
      "outputs": []
    },
    {
      "cell_type": "code",
      "source": [
        "ret_Rid"
      ],
      "metadata": {
        "id": "mOu2EW-2W7aG",
        "colab": {
          "base_uri": "https://localhost:8080/"
        },
        "outputId": "947c207a-ce4e-4290-adc8-79b9c7c847f9"
      },
      "execution_count": null,
      "outputs": [
        {
          "output_type": "execute_result",
          "data": {
            "text/plain": [
              "     fun: 10.668241491490525\n",
              " message: ['Maximum number of function call reached during dual annealing']\n",
              "    nfev: 10038\n",
              "    nhev: 0\n",
              "     nit: 1800\n",
              "    njev: 3217\n",
              "  status: 0\n",
              " success: False\n",
              "       x: array([6.3560625e-06])"
            ]
          },
          "metadata": {},
          "execution_count": 27
        }
      ]
    },
    {
      "cell_type": "markdown",
      "source": [
        "### Partical Swarm Optimization"
      ],
      "metadata": {
        "id": "7hdWg-wUXGzI"
      }
    },
    {
      "cell_type": "code",
      "source": [
        "def objective_pso_Rid(h): # h is a two column matrix\n",
        "  kf = KFold(n_splits=10,shuffle=True,random_state=123)\n",
        "  scale = StandardScaler()\n",
        "  output = [] \n",
        "  for i in range(h.shape[0]):\n",
        "    a = h[i,0] # column matrix \n",
        "    model = Ridge(alpha= a, fit_intercept = False,max_iter=5000)\n",
        "    PE = []\n",
        "    for idxtrain, idxtest in kf.split(X):\n",
        "      Xtrain = X[idxtrain]\n",
        "      ytrain = y[idxtrain]\n",
        "      Xtest = X[idxtest]\n",
        "      ytest = y[idxtest]\n",
        "\n",
        "      Xtrain_s = scale.fit_transform(Xtrain)\n",
        "      Xtest_s = scale.transform(Xtest)\n",
        "      \n",
        "      model.fit(Xtrain_s,ytrain)\n",
        "      PE.append(MSE(ytest,model.predict(Xtest_s)))\n",
        "    output.append(np.mean(PE))\n",
        "  return output"
      ],
      "metadata": {
        "id": "JdARgFFjXKJ6"
      },
      "execution_count": null,
      "outputs": []
    },
    {
      "cell_type": "code",
      "source": [
        "max = np.array([100])\n",
        "min = np.array([0])\n",
        "bounds = (min, max)\n",
        "options = {'c1': 0.25, 'c2': 0.25, 'w': 0.5}\n",
        "optimizer = ps.single.GlobalBestPSO(n_particles=25, dimensions=1, options=options, bounds=bounds)\n",
        "cost, pos = optimizer.optimize(objective_pso_Rid, iters=1000)"
      ],
      "metadata": {
        "id": "Hb53dl73XMMr",
        "colab": {
          "base_uri": "https://localhost:8080/"
        },
        "outputId": "d6ece619-34d4-43c0-dc3c-785d934b64c0"
      },
      "execution_count": null,
      "outputs": [
        {
          "output_type": "stream",
          "name": "stderr",
          "text": [
            "2022-07-31 16:03:22,152 - pyswarms.single.global_best - INFO - Optimize for 1000 iters with {'c1': 0.25, 'c2': 0.25, 'w': 0.5}\n",
            "pyswarms.single.global_best: 100%|██████████|1000/1000, best_cost=10.7\n",
            "2022-07-31 16:21:22,071 - pyswarms.single.global_best - INFO - Optimization finished | best cost: 10.668241894362643, best pos: [0.0003802]\n"
          ]
        }
      ]
    }
  ],
  "metadata": {
    "colab": {
      "collapsed_sections": [],
      "name": "Project_3_Notebook_Linear.ipynb",
      "provenance": []
    },
    "gpuClass": "standard",
    "kernelspec": {
      "display_name": "Python 3",
      "name": "python3"
    },
    "language_info": {
      "name": "python"
    }
  },
  "nbformat": 4,
  "nbformat_minor": 0
}